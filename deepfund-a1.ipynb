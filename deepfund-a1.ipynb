{
 "cells": [
  {
   "cell_type": "code",
   "execution_count": 1,
   "id": "4a73246a-1570-48c1-9395-4f01de87c861",
   "metadata": {},
   "outputs": [],
   "source": [
    "from sklearn.datasets import load_breast_cancer \n",
    "from sklearn.linear_model import Perceptron \n",
    "from sklearn.model_selection import train_test_split \n",
    "from sklearn import metrics \n",
    "from sklearn.metrics import accuracy_score \n",
    "from sklearn.metrics import confusion_matrix \n",
    "\n",
    "import pandas as pd\n",
    "from sklearn.datasets import load_svmlight_file"
   ]
  },
  {
   "cell_type": "markdown",
   "id": "f708ce7e-9c1a-478e-83a5-b7caf5c2a2d2",
   "metadata": {
    "jp-MarkdownHeadingCollapsed": true
   },
   "source": [
    "# 1. Basic: Deep learning process"
   ]
  },
  {
   "cell_type": "code",
   "execution_count": 3,
   "id": "5bc1b00d-dfbe-468c-9636-6a278e959fbd",
   "metadata": {},
   "outputs": [
    {
     "name": "stdout",
     "output_type": "stream",
     "text": [
      "     0      1     2     3      4          5      6     7  label\n",
      "0  6.0  148.0  72.0  35.0    0.0  33.599998  0.627  50.0   -1.0\n",
      "1  1.0   85.0  66.0  29.0    0.0  26.600000  0.351  31.0    1.0\n",
      "2  8.0  183.0  64.0   0.0    0.0  23.299999  0.672  32.0   -1.0\n",
      "3  1.0   89.0  66.0  23.0   94.0  28.100000  0.167  21.0    1.0\n",
      "4  0.0  137.0  40.0  35.0  168.0  43.099998  2.288  33.0   -1.0\n"
     ]
    }
   ],
   "source": [
    "#1. load data\n",
    "data = load_svmlight_file(\"diabetes.txt\")\n",
    "\n",
    "X, y = data[0], data[1]\n",
    "df = pd.DataFrame(X.toarray())\n",
    "df['label'] = y\n",
    "\n",
    "X = df.iloc[:, :8]\n",
    "y = df['label']\n",
    "\n",
    "print(df.head())"
   ]
  },
  {
   "cell_type": "code",
   "execution_count": 4,
   "id": "9c74e1cf-e258-4709-b23a-4ffd8480f874",
   "metadata": {},
   "outputs": [
    {
     "name": "stdout",
     "output_type": "stream",
     "text": [
      "Accuracy: 0.4935064935064935\n"
     ]
    }
   ],
   "source": [
    "#2. split data\n",
    "X_train, X_test, y_train, y_test = train_test_split(X, y, test_size=0.3, random_state=42) \n",
    "\n",
    "#3. select model\n",
    "clf = Perceptron(max_iter=1000, eta0=0.1)\n",
    "\n",
    "#4. train model \n",
    "clf.fit(X_train, y_train)\n",
    "\n",
    "#5. get accuracy\n",
    "y_pred = clf.predict(X_test) \n",
    "\n",
    "accuracy = accuracy_score(y_test, y_pred) \n",
    "print(\"Accuracy:\", accuracy)"
   ]
  },
  {
   "cell_type": "code",
   "execution_count": 5,
   "id": "b715d74a-c132-4e82-8708-7c70ef256f7e",
   "metadata": {},
   "outputs": [],
   "source": [
    "#clf = Perceptron(max_iter=1000, eta0=0.1,n_iter_no_change=10)"
   ]
  },
  {
   "cell_type": "markdown",
   "id": "f6de148f-b45e-4d54-8667-bed9665c2e0b",
   "metadata": {},
   "source": [
    "# 2. Advance: Improve accuracy"
   ]
  },
  {
   "cell_type": "markdown",
   "id": "1510a89e-98ee-4b9a-b9fc-1a312781aae7",
   "metadata": {},
   "source": [
    "## 2-1. For data"
   ]
  },
  {
   "cell_type": "markdown",
   "id": "6c31badb-e3c9-4e4a-b48a-de3deb70f3e6",
   "metadata": {
    "jp-MarkdownHeadingCollapsed": true
   },
   "source": [
    "### 2-1-1. Data scale"
   ]
  },
  {
   "cell_type": "markdown",
   "id": "a22249d4-4ea6-4c47-bdd1-874a5772bb48",
   "metadata": {
    "jp-MarkdownHeadingCollapsed": true
   },
   "source": [
    "#### 2-1-1-1. Minmax"
   ]
  },
  {
   "cell_type": "code",
   "execution_count": 10,
   "id": "ef88f24c-eb33-438e-adcc-8e7dd74626fa",
   "metadata": {},
   "outputs": [
    {
     "name": "stdout",
     "output_type": "stream",
     "text": [
      "          0         1         2         3         4         5         6  \\\n",
      "0 -0.294118  0.487437  0.180328 -0.292929 -1.000000  0.001490 -0.531170   \n",
      "1 -0.882353 -0.145729  0.081967 -0.414141 -1.000000 -0.207153 -0.766866   \n",
      "2 -0.058824  0.839196  0.049180 -1.000000 -1.000000 -0.305514 -0.492741   \n",
      "3 -0.882353 -0.105528  0.081967 -0.535354 -0.777778 -0.162444 -0.923997   \n",
      "4 -1.000000  0.376884 -0.344262 -0.292929 -0.602837  0.284650  0.887276   \n",
      "\n",
      "          7  label  \n",
      "0 -0.033333   -1.0  \n",
      "1 -0.666667    1.0  \n",
      "2 -0.633333   -1.0  \n",
      "3 -1.000000    1.0  \n",
      "4 -0.600000   -1.0  \n"
     ]
    }
   ],
   "source": [
    "data = load_svmlight_file(\"diabetes_scale.txt\")\n",
    "\n",
    "X, y = data[0], data[1]\n",
    "df = pd.DataFrame(X.toarray())\n",
    "df['label'] = y\n",
    "\n",
    "X = df.iloc[:, :8]\n",
    "y = df['label']\n",
    "\n",
    "print(df.head())"
   ]
  },
  {
   "cell_type": "code",
   "execution_count": 11,
   "id": "09210491-db95-4d92-85e8-3525c8e288b9",
   "metadata": {},
   "outputs": [
    {
     "name": "stdout",
     "output_type": "stream",
     "text": [
      "Accuracy: 0.6536796536796536\n"
     ]
    }
   ],
   "source": [
    "X_train, X_test, y_train, y_test = train_test_split(X, y, test_size=0.3, random_state=42) \n",
    "clf = Perceptron(max_iter=1000, eta0=0.1)\n",
    "clf.fit(X_train, y_train)\n",
    "y_pred = clf.predict(X_test) \n",
    "\n",
    "accuracy = accuracy_score(y_test, y_pred) \n",
    "print(\"Accuracy:\", accuracy)"
   ]
  },
  {
   "cell_type": "markdown",
   "id": "c2a569ec-7f01-4b07-a638-40bf675140aa",
   "metadata": {
    "jp-MarkdownHeadingCollapsed": true
   },
   "source": [
    "#### 2-1-1-2. Robust"
   ]
  },
  {
   "cell_type": "code",
   "execution_count": 13,
   "id": "e3fcac63-cfb4-4bd0-ae71-d2007fdda30e",
   "metadata": {},
   "outputs": [
    {
     "name": "stdout",
     "output_type": "stream",
     "text": [
      "       0         1         2        3         4         5         6         7  \\\n",
      "0    0.6  0.751515  0.000000  0.37500 -0.239686  0.172043  0.665359  1.235294   \n",
      "1   -0.4 -0.775758 -0.333333  0.18750 -0.239686 -0.580645 -0.056209  0.117647   \n",
      "2    1.0  1.600000 -0.444444 -0.71875 -0.239686 -0.935484  0.783007  0.176471   \n",
      "3   -0.4 -0.678788 -0.333333  0.00000  0.499018 -0.419355 -0.537255 -0.470588   \n",
      "4   -0.6  0.484848 -1.777778  0.37500  1.080550  1.193548  5.007843  0.235294   \n",
      "..   ...       ...       ...      ...       ...       ...       ...       ...   \n",
      "763  1.4 -0.387879  0.222222  0.78125  1.174853  0.096774 -0.526797  2.000000   \n",
      "764 -0.2  0.121212 -0.111111  0.12500 -0.239686  0.516129 -0.084967 -0.117647   \n",
      "765  0.4  0.096970  0.000000  0.00000  0.640472 -0.623656 -0.333333  0.058824   \n",
      "766 -0.4  0.218182 -0.666667 -0.71875 -0.239686 -0.204301 -0.061438  1.058824   \n",
      "767 -0.4 -0.581818 -0.111111  0.25000 -0.239686 -0.172043 -0.150327 -0.352941   \n",
      "\n",
      "     label  \n",
      "0     -1.0  \n",
      "1      0.0  \n",
      "2     -1.0  \n",
      "3      0.0  \n",
      "4     -1.0  \n",
      "..     ...  \n",
      "763    0.0  \n",
      "764    0.0  \n",
      "765    0.0  \n",
      "766   -1.0  \n",
      "767    0.0  \n",
      "\n",
      "[768 rows x 9 columns]\n"
     ]
    }
   ],
   "source": [
    "from sklearn.preprocessing import RobustScaler\n",
    "\n",
    "data = load_svmlight_file(\"diabetes.txt\")\n",
    "\n",
    "X, y = data[0], data[1]\n",
    "df = pd.DataFrame(X.toarray())\n",
    "df['label'] = y\n",
    "\n",
    "df.columns = df.columns.astype(str)\n",
    "\n",
    "# init Robust Scaler\n",
    "scaler = RobustScaler()\n",
    "\n",
    "# run Robust Scaling\n",
    "data_robust_scaled = pd.DataFrame(scaler.fit_transform(df), columns=df.columns)\n",
    "\n",
    "print(data_robust_scaled)"
   ]
  },
  {
   "cell_type": "code",
   "execution_count": 14,
   "id": "df43a588-8183-4e99-9a45-0335f26a0cce",
   "metadata": {},
   "outputs": [
    {
     "name": "stdout",
     "output_type": "stream",
     "text": [
      "Accuracy: 0.7056277056277056\n"
     ]
    }
   ],
   "source": [
    "X = data_robust_scaled.iloc[:, :8]\n",
    "y = data_robust_scaled['label']\n",
    "\n",
    "X_train, X_test, y_train, y_test = train_test_split(X, y, test_size=0.3, random_state=42) \n",
    "clf = Perceptron(max_iter=1000, eta0=0.1)\n",
    "clf.fit(X_train, y_train)\n",
    "y_pred = clf.predict(X_test) \n",
    "\n",
    "accuracy = accuracy_score(y_test, y_pred) \n",
    "print(\"Accuracy:\", accuracy)"
   ]
  },
  {
   "cell_type": "markdown",
   "id": "81116c1b-4efb-483c-9788-ad1a9e2666ec",
   "metadata": {
    "jp-MarkdownHeadingCollapsed": true
   },
   "source": [
    "### 2-1-2. Data clean"
   ]
  },
  {
   "cell_type": "code",
   "execution_count": 16,
   "id": "79fe9c01-fa37-46fc-b842-39b8e222158d",
   "metadata": {},
   "outputs": [
    {
     "data": {
      "text/plain": [
       "<Axes: >"
      ]
     },
     "execution_count": 16,
     "metadata": {},
     "output_type": "execute_result"
    },
    {
     "data": {
      "image/png": "[encoded data removed]",
      "text/plain": [
       "<Figure size 640x480 with 1 Axes>"
      ]
     },
     "metadata": {},
     "output_type": "display_data"
    }
   ],
   "source": [
    "data = load_svmlight_file(\"diabetes.txt\")\n",
    "\n",
    "X, y = data[0], data[1]\n",
    "df = pd.DataFrame(X.toarray())\n",
    "df['label'] = y\n",
    "\n",
    "#1. check data by plot\n",
    "df.plot.box()"
   ]
  },
  {
   "cell_type": "markdown",
   "id": "0f07b1fb-9e7c-441b-a365-b4c1874538de",
   "metadata": {},
   "source": [
    "#### 1. "
   ]
  },
  {
   "cell_type": "code",
   "execution_count": 18,
   "id": "4c53e045-2a01-4884-a48c-87b2fbf300bc",
   "metadata": {},
   "outputs": [
    {
     "data": {
      "text/plain": [
       "<Axes: >"
      ]
     },
     "execution_count": 18,
     "metadata": {},
     "output_type": "execute_result"
    },
    {
     "data": {
      "image/png": "[encoded data removed]",
      "text/plain": [
       "<Figure size 640x480 with 1 Axes>"
      ]
     },
     "metadata": {},
     "output_type": "display_data"
    }
   ],
   "source": [
    "df[0].plot.box()"
   ]
  },
  {
   "cell_type": "code",
   "execution_count": 19,
   "id": "fe86385c-6095-4585-8eca-b5ac9f1e8cc8",
   "metadata": {},
   "outputs": [
    {
     "name": "stdout",
     "output_type": "stream",
     "text": [
      "13.5\n",
      "4\n"
     ]
    }
   ],
   "source": [
    "Q1 = df[0].quantile(0.25)  \n",
    "Q3 = df[0].quantile(0.75)  \n",
    "IQR = Q3 - Q1  \n",
    "\n",
    "lower_bound = Q1 - 1.5 * IQR\n",
    "upper_bound = Q3 + 1.5 * IQR\n",
    "\n",
    "print(upper_bound)\n",
    "\n",
    "threshold = upper_bound\n",
    "count = (df[0] > threshold).sum()\n",
    "print(count)"
   ]
  },
  {
   "cell_type": "code",
   "execution_count": 20,
   "id": "45cf2e08-cae0-4f9f-9ae5-3969557ca930",
   "metadata": {},
   "outputs": [
    {
     "name": "stdout",
     "output_type": "stream",
     "text": [
      "(764, 9)\n"
     ]
    }
   ],
   "source": [
    "df.drop(df[df[0] > threshold].index, inplace=True)\n",
    "print(df.shape)"
   ]
  },
  {
   "cell_type": "markdown",
   "id": "1591200b-f91e-443d-9215-bc9762678487",
   "metadata": {},
   "source": [
    "#### 2. "
   ]
  },
  {
   "cell_type": "code",
   "execution_count": 22,
   "id": "d872e04e-6b1d-4a96-9583-909a94a86875",
   "metadata": {},
   "outputs": [
    {
     "data": {
      "text/plain": [
       "<Axes: >"
      ]
     },
     "execution_count": 22,
     "metadata": {},
     "output_type": "execute_result"
    },
    {
     "data": {
      "image/png": "[encoded data removed]",
      "text/plain": [
       "<Figure size 640x480 with 1 Axes>"
      ]
     },
     "metadata": {},
     "output_type": "display_data"
    }
   ],
   "source": [
    "df[1].plot.box()"
   ]
  },
  {
   "cell_type": "code",
   "execution_count": 23,
   "id": "ca3c9563-9f53-4541-b88c-83bd2d697a9a",
   "metadata": {},
   "outputs": [
    {
     "name": "stdout",
     "output_type": "stream",
     "text": [
      "37.5\n",
      "5\n"
     ]
    }
   ],
   "source": [
    "Q1 = df[1].quantile(0.25)  \n",
    "Q3 = df[1].quantile(0.75)  \n",
    "IQR = Q3 - Q1 \n",
    "\n",
    "lower_bound = Q1 - 1.5 * IQR\n",
    "upper_bound = Q3 + 1.5 * IQR\n",
    "\n",
    "print(lower_bound)\n",
    "\n",
    "threshold = lower_bound\n",
    "count = (df[1]< threshold).sum()\n",
    "print(count)"
   ]
  },
  {
   "cell_type": "code",
   "execution_count": 24,
   "id": "f972ad4f-9865-498d-90ee-2aa42a3dc7a8",
   "metadata": {},
   "outputs": [
    {
     "name": "stdout",
     "output_type": "stream",
     "text": [
      "(759, 9)\n"
     ]
    }
   ],
   "source": [
    "df.drop(df[df[1] < threshold].index, inplace=True)\n",
    "print(df.shape)"
   ]
  },
  {
   "cell_type": "markdown",
   "id": "ff0c7f9d-93ed-4be0-babf-303845c5ed76",
   "metadata": {},
   "source": [
    "#### 3. "
   ]
  },
  {
   "cell_type": "code",
   "execution_count": 26,
   "id": "38af798d-0b0b-4148-83b5-0ccfe64d540d",
   "metadata": {},
   "outputs": [
    {
     "data": {
      "text/plain": [
       "<Axes: >"
      ]
     },
     "execution_count": 26,
     "metadata": {},
     "output_type": "execute_result"
    },
    {
     "data": {
      "image/png": "[encoded data removed]",
      "text/plain": [
       "<Figure size 640x480 with 1 Axes>"
      ]
     },
     "metadata": {},
     "output_type": "display_data"
    }
   ],
   "source": [
    "df[2].plot.box()"
   ]
  },
  {
   "cell_type": "code",
   "execution_count": 27,
   "id": "53d132ad-2b4d-4472-87f6-4c36d43ee276",
   "metadata": {},
   "outputs": [
    {
     "name": "stdout",
     "output_type": "stream",
     "text": [
      "107.0\n",
      "35.0\n",
      "7\n",
      "38\n"
     ]
    }
   ],
   "source": [
    "Q1 = df[2].quantile(0.25)  \n",
    "Q3 = df[2].quantile(0.75) \n",
    "IQR = Q3 - Q1  \n",
    "\n",
    "lower_bound = Q1 - 1.5 * IQR\n",
    "upper_bound = Q3 + 1.5 * IQR\n",
    "\n",
    "print(upper_bound)\n",
    "print(lower_bound)\n",
    "\n",
    "threshold = upper_bound\n",
    "count = (df[2]> threshold ).sum()\n",
    "print(count)\n",
    "\n",
    "threshold = lower_bound\n",
    "count = (df[2]< threshold ).sum()\n",
    "print(count)"
   ]
  },
  {
   "cell_type": "code",
   "execution_count": 28,
   "id": "1e05a168-0eef-4c0e-837e-8d2c84d0c4e7",
   "metadata": {},
   "outputs": [
    {
     "name": "stdout",
     "output_type": "stream",
     "text": [
      "110.0\n",
      "108.0\n",
      "122.0\n",
      "110.0\n",
      "108.0\n",
      "110.0\n",
      "114.0\n"
     ]
    }
   ],
   "source": [
    "threshold = upper_bound\n",
    "for value in df[2]:\n",
    "    if value>threshold:\n",
    "        print(value)"
   ]
  },
  {
   "cell_type": "code",
   "execution_count": 29,
   "id": "1d131cee-d0f6-4a3f-9419-0aca127e3f82",
   "metadata": {},
   "outputs": [
    {
     "name": "stdout",
     "output_type": "stream",
     "text": [
      "(758, 9)\n"
     ]
    }
   ],
   "source": [
    "df.drop(df[df[2] ==122].index, inplace=True)\n",
    "print(df.shape)"
   ]
  },
  {
   "cell_type": "markdown",
   "id": "9557f5cf-b64e-4cd5-ab67-61e6a6946397",
   "metadata": {},
   "source": [
    "#### 4. "
   ]
  },
  {
   "cell_type": "code",
   "execution_count": 31,
   "id": "47946b19-1210-400b-9ee3-8fd906a8e9cf",
   "metadata": {},
   "outputs": [
    {
     "data": {
      "text/plain": [
       "<Axes: >"
      ]
     },
     "execution_count": 31,
     "metadata": {},
     "output_type": "execute_result"
    },
    {
     "data": {
      "image/png": "[encoded data removed]",
      "text/plain": [
       "<Figure size 640x480 with 1 Axes>"
      ]
     },
     "metadata": {},
     "output_type": "display_data"
    }
   ],
   "source": [
    "df[3].plot.box()"
   ]
  },
  {
   "cell_type": "code",
   "execution_count": 32,
   "id": "19978a3e-ff9b-4ac1-9bcf-b997f61ef204",
   "metadata": {},
   "outputs": [
    {
     "name": "stdout",
     "output_type": "stream",
     "text": [
      "80.0\n",
      "1\n"
     ]
    }
   ],
   "source": [
    "Q1 = df[3].quantile(0.25) \n",
    "Q3 = df[3].quantile(0.75)\n",
    "IQR = Q3 - Q1 \n",
    "\n",
    "lower_bound = Q1 - 1.5 * IQR\n",
    "upper_bound = Q3 + 1.5 * IQR\n",
    "\n",
    "print(upper_bound)\n",
    "\n",
    "threshold = upper_bound\n",
    "count = (df[3]> threshold ).sum()\n",
    "print(count)"
   ]
  },
  {
   "cell_type": "code",
   "execution_count": 33,
   "id": "55d2d141-2716-45f3-b4b9-bb5ee3493090",
   "metadata": {},
   "outputs": [
    {
     "name": "stdout",
     "output_type": "stream",
     "text": [
      "(757, 9)\n"
     ]
    }
   ],
   "source": [
    "df.drop(df[df[3] > threshold].index, inplace=True)\n",
    "print(df.shape)"
   ]
  },
  {
   "cell_type": "markdown",
   "id": "1a188277-145e-4261-bc73-8d6e1b64ab7b",
   "metadata": {},
   "source": [
    "#### 5. "
   ]
  },
  {
   "cell_type": "code",
   "execution_count": 35,
   "id": "d0add4c4-1b07-42e8-9cc6-ab29e8614a64",
   "metadata": {},
   "outputs": [
    {
     "data": {
      "text/plain": [
       "<Axes: >"
      ]
     },
     "execution_count": 35,
     "metadata": {},
     "output_type": "execute_result"
    },
    {
     "data": {
      "image/png": "[encoded data removed]",
      "text/plain": [
       "<Figure size 640x480 with 1 Axes>"
      ]
     },
     "metadata": {},
     "output_type": "display_data"
    }
   ],
   "source": [
    "df[4].plot.box()"
   ]
  },
  {
   "cell_type": "code",
   "execution_count": 36,
   "id": "351df0b1-0967-456c-a223-d82b2a5e62fa",
   "metadata": {},
   "outputs": [
    {
     "name": "stdout",
     "output_type": "stream",
     "text": [
      "13     846.0\n",
      "228    744.0\n",
      "247    680.0\n",
      "584    600.0\n",
      "409    579.0\n",
      "Name: 4, dtype: float64\n"
     ]
    }
   ],
   "source": [
    "top_three_a = df[4].nlargest(5)\n",
    "\n",
    "print(top_three_a)"
   ]
  },
  {
   "cell_type": "code",
   "execution_count": 37,
   "id": "3635c688-5fac-4bec-adee-fa26126d146e",
   "metadata": {},
   "outputs": [
    {
     "name": "stdout",
     "output_type": "stream",
     "text": [
      "(754, 9)\n"
     ]
    }
   ],
   "source": [
    "threshold = 600\n",
    "df.drop(df[df[4] > threshold].index, inplace=True)\n",
    "print(df.shape)"
   ]
  },
  {
   "cell_type": "markdown",
   "id": "130b68a0-f2a5-44e0-a647-b5898dd3d3d3",
   "metadata": {},
   "source": [
    "#### 6. "
   ]
  },
  {
   "cell_type": "code",
   "execution_count": 39,
   "id": "034333d3-92dd-46cc-ae89-50ede5644802",
   "metadata": {},
   "outputs": [
    {
     "data": {
      "text/plain": [
       "<Axes: >"
      ]
     },
     "execution_count": 39,
     "metadata": {},
     "output_type": "execute_result"
    },
    {
     "data": {
      "image/png": "[encoded data removed]",
      "text/plain": [
       "<Figure size 640x480 with 1 Axes>"
      ]
     },
     "metadata": {},
     "output_type": "display_data"
    }
   ],
   "source": [
    "df[5].plot.box()"
   ]
  },
  {
   "cell_type": "code",
   "execution_count": 40,
   "id": "cf77c1e0-8fc8-404b-8302-769cb4ffabf2",
   "metadata": {
    "scrolled": true
   },
   "outputs": [
    {
     "name": "stdout",
     "output_type": "stream",
     "text": [
      "50.3000015\n",
      "13.4999975\n",
      "7\n",
      "11\n"
     ]
    }
   ],
   "source": [
    "Q1 = df[5].quantile(0.25)\n",
    "Q3 = df[5].quantile(0.75)\n",
    "IQR = Q3 - Q1 \n",
    "\n",
    "lower_bound = Q1 - 1.5 * IQR\n",
    "upper_bound = Q3 + 1.5 * IQR\n",
    "\n",
    "print(upper_bound)\n",
    "print(lower_bound)\n",
    "\n",
    "threshold = upper_bound\n",
    "count = (df[5]> threshold ).sum()\n",
    "print(count)\n",
    "\n",
    "threshold = lower_bound\n",
    "count = (df[5]< threshold ).sum()\n",
    "print(count)"
   ]
  },
  {
   "cell_type": "code",
   "execution_count": 41,
   "id": "ffb540dc-4b78-49ac-8f3f-49cb80d24b36",
   "metadata": {
    "scrolled": true
   },
   "outputs": [
    {
     "name": "stdout",
     "output_type": "stream",
     "text": [
      "177    67.099998\n",
      "445    59.400002\n",
      "673    57.299999\n",
      "125    55.000000\n",
      "120    53.200001\n",
      "Name: 5, dtype: float64\n"
     ]
    }
   ],
   "source": [
    "top_three_a = df[5].nlargest(5)\n",
    "\n",
    "print(top_three_a)"
   ]
  },
  {
   "cell_type": "code",
   "execution_count": 42,
   "id": "e6b467a5-6871-4f7f-971c-c632907fc3a2",
   "metadata": {},
   "outputs": [
    {
     "name": "stdout",
     "output_type": "stream",
     "text": [
      "(753, 9)\n"
     ]
    }
   ],
   "source": [
    "df.drop(df[df[5] > 60].index, inplace=True)\n",
    "print(df.shape)"
   ]
  },
  {
   "cell_type": "markdown",
   "id": "eb7d1d79-7d94-4a08-bf42-f36a9fc07c3b",
   "metadata": {},
   "source": [
    "#### 7. "
   ]
  },
  {
   "cell_type": "code",
   "execution_count": 44,
   "id": "9eea91ff-1d8d-4d09-acc3-e6a5ccf52289",
   "metadata": {},
   "outputs": [
    {
     "data": {
      "text/plain": [
       "<Axes: >"
      ]
     },
     "execution_count": 44,
     "metadata": {},
     "output_type": "execute_result"
    },
    {
     "data": {
      "image/png": "[encoded data removed]",
      "text/plain": [
       "<Figure size 640x480 with 1 Axes>"
      ]
     },
     "metadata": {},
     "output_type": "display_data"
    }
   ],
   "source": [
    "df[6].plot.box()"
   ]
  },
  {
   "cell_type": "code",
   "execution_count": 45,
   "id": "71dc7507-39d4-4c0d-b87a-3d1c2a38841d",
   "metadata": {},
   "outputs": [
    {
     "name": "stdout",
     "output_type": "stream",
     "text": [
      "445    2.420\n",
      "4      2.288\n",
      "370    2.137\n",
      "45     1.893\n",
      "58     1.781\n",
      "371    1.731\n",
      "593    1.699\n",
      "621    1.698\n",
      "395    1.600\n",
      "330    1.476\n",
      "622    1.461\n",
      "12     1.441\n",
      "147    1.400\n",
      "661    1.394\n",
      "308    1.391\n",
      "39     1.390\n",
      "259    1.353\n",
      "187    1.321\n",
      "243    1.318\n",
      "659    1.292\n",
      "Name: 6, dtype: float64\n"
     ]
    }
   ],
   "source": [
    "top_three_a = df[6].nlargest(20)\n",
    "\n",
    "print(top_three_a)"
   ]
  },
  {
   "cell_type": "code",
   "execution_count": 46,
   "id": "23edeaaa-4cd4-4b96-83e6-65e244e3d3ce",
   "metadata": {},
   "outputs": [
    {
     "name": "stdout",
     "output_type": "stream",
     "text": [
      "3\n",
      "(750, 9)\n"
     ]
    }
   ],
   "source": [
    "threshold = 1.9\n",
    "count = (df[6]> threshold ).sum()\n",
    "print(count)\n",
    "\n",
    "df.drop(df[df[6] > 1.9].index, inplace=True)\n",
    "print(df.shape)"
   ]
  },
  {
   "cell_type": "markdown",
   "id": "d868801a-1e2c-405e-a99c-4ffd18c4053f",
   "metadata": {},
   "source": [
    "#### 8. "
   ]
  },
  {
   "cell_type": "code",
   "execution_count": 48,
   "id": "6874a6a2-b2db-4a1a-9419-904b9c8334f8",
   "metadata": {},
   "outputs": [
    {
     "data": {
      "text/plain": [
       "<Axes: >"
      ]
     },
     "execution_count": 48,
     "metadata": {},
     "output_type": "execute_result"
    },
    {
     "data": {
      "image/png": "[encoded data removed]",
      "text/plain": [
       "<Figure size 640x480 with 1 Axes>"
      ]
     },
     "metadata": {},
     "output_type": "display_data"
    }
   ],
   "source": [
    "df[7].plot.box()"
   ]
  },
  {
   "cell_type": "code",
   "execution_count": 49,
   "id": "61050af3-5d05-43d5-b8de-792b7a04404b",
   "metadata": {},
   "outputs": [
    {
     "name": "stdout",
     "output_type": "stream",
     "text": [
      "65.875\n",
      "13\n"
     ]
    }
   ],
   "source": [
    "Q1 = df[7].quantile(0.25) \n",
    "Q3 = df[7].quantile(0.75) \n",
    "IQR = Q3 - Q1 \n",
    "\n",
    "lower_bound = Q1 - 1.5 * IQR\n",
    "upper_bound = Q3 + 1.5 * IQR\n",
    "\n",
    "print(upper_bound)\n",
    "\n",
    "threshold = upper_bound\n",
    "count = (df[7]> threshold ).sum()\n",
    "print(count)"
   ]
  },
  {
   "cell_type": "code",
   "execution_count": 50,
   "id": "3493550a-552f-4a0d-a722-01c823dee6f6",
   "metadata": {},
   "outputs": [
    {
     "name": "stdout",
     "output_type": "stream",
     "text": [
      "459    81.0\n",
      "453    72.0\n",
      "666    70.0\n",
      "123    69.0\n",
      "684    69.0\n",
      "674    68.0\n",
      "363    67.0\n",
      "489    67.0\n",
      "537    67.0\n",
      "221    66.0\n",
      "495    66.0\n",
      "552    66.0\n",
      "759    66.0\n",
      "Name: 7, dtype: float64\n"
     ]
    }
   ],
   "source": [
    "top_three_a = df[7].nlargest(13)\n",
    "\n",
    "print(top_three_a)"
   ]
  },
  {
   "cell_type": "code",
   "execution_count": 51,
   "id": "177cc3f8-cbf9-47e2-90f8-2ed36dbe95eb",
   "metadata": {},
   "outputs": [
    {
     "name": "stdout",
     "output_type": "stream",
     "text": [
      "(749, 9)\n"
     ]
    }
   ],
   "source": [
    "df.drop(df[df[7] > 72].index, inplace=True)\n",
    "print(df.shape)"
   ]
  },
  {
   "cell_type": "markdown",
   "id": "bd5f9c83-9464-495e-96a9-aa793fecf629",
   "metadata": {},
   "source": [
    "#### Scale data and test"
   ]
  },
  {
   "cell_type": "code",
   "execution_count": 53,
   "id": "0bcd028c-c32b-4ed7-8bb7-7ccaa6a85b77",
   "metadata": {},
   "outputs": [
    {
     "name": "stdout",
     "output_type": "stream",
     "text": [
      "       0         1         2        3         4         5         6       7  \\\n",
      "0    0.6  0.756098  0.000000  0.37500 -0.230159  0.175824  0.674541  1.3125   \n",
      "1   -0.4 -0.780488 -0.333333  0.18750 -0.230159 -0.593406 -0.049869  0.1250   \n",
      "2    1.0  1.609756 -0.444444 -0.71875 -0.230159 -0.956044  0.792651  0.1875   \n",
      "3   -0.4 -0.682927 -0.333333  0.00000  0.515873 -0.428571 -0.532808 -0.5000   \n",
      "4    0.4 -0.024390  0.111111 -0.71875 -0.230159 -0.703296 -0.443570  0.0625   \n",
      "..   ...       ...       ...      ...       ...       ...       ...     ...   \n",
      "744  1.4 -0.390244  0.222222  0.78125  1.198413  0.098901 -0.522310  2.1250   \n",
      "745 -0.2  0.121951 -0.111111  0.12500 -0.230159  0.527472 -0.078740 -0.1250   \n",
      "746  0.4  0.097561  0.000000  0.00000  0.658730 -0.637362 -0.328084  0.0625   \n",
      "747 -0.4  0.219512 -0.666667 -0.71875 -0.230159 -0.208791 -0.055118  1.1250   \n",
      "748 -0.4 -0.585366 -0.111111  0.25000 -0.230159 -0.175824 -0.144357 -0.3750   \n",
      "\n",
      "     label  \n",
      "0     -1.0  \n",
      "1      0.0  \n",
      "2     -1.0  \n",
      "3      0.0  \n",
      "4      0.0  \n",
      "..     ...  \n",
      "744    0.0  \n",
      "745    0.0  \n",
      "746    0.0  \n",
      "747   -1.0  \n",
      "748    0.0  \n",
      "\n",
      "[749 rows x 9 columns]\n"
     ]
    }
   ],
   "source": [
    "df.columns = df.columns.astype(str)\n",
    "\n",
    "scaler = RobustScaler()\n",
    "data_robust_scaled = pd.DataFrame(scaler.fit_transform(df), columns=df.columns)\n",
    "\n",
    "print(data_robust_scaled)"
   ]
  },
  {
   "cell_type": "code",
   "execution_count": 54,
   "id": "a1eba3f8-6e8f-4c26-921c-06831621de7d",
   "metadata": {},
   "outputs": [
    {
     "name": "stdout",
     "output_type": "stream",
     "text": [
      "Accuracy: 0.7333333333333333\n"
     ]
    }
   ],
   "source": [
    "X = data_robust_scaled.iloc[:, :8]\n",
    "y = data_robust_scaled['label']\n",
    "\n",
    "X_train, X_test, y_train, y_test = train_test_split(X, y, test_size=0.3, random_state=42) \n",
    "clf = Perceptron(max_iter=1000, eta0=0.1)\n",
    "clf.fit(X_train, y_train)\n",
    "y_pred = clf.predict(X_test) \n",
    "\n",
    "accuracy = accuracy_score(y_test, y_pred) \n",
    "print(\"Accuracy:\", accuracy)"
   ]
  },
  {
   "cell_type": "markdown",
   "id": "3f313df7-4d73-495e-a515-53873c3aab90",
   "metadata": {},
   "source": [
    "### 2-1-3. Data feature"
   ]
  },
  {
   "cell_type": "markdown",
   "id": "5ea868dd-78b1-4702-98df-132ca820ecd3",
   "metadata": {
    "jp-MarkdownHeadingCollapsed": true
   },
   "source": [
    "#### 2-1-3-1. 7 feature"
   ]
  },
  {
   "cell_type": "code",
   "execution_count": 57,
   "id": "5a6a5d49-5de2-4765-ac56-8ccb2086a40c",
   "metadata": {},
   "outputs": [
    {
     "name": "stdout",
     "output_type": "stream",
     "text": [
      "Selected features: [ True  True  True  True  True  True  True False]\n",
      "Feature ranking: [1 1 1 1 1 1 1 2]\n"
     ]
    }
   ],
   "source": [
    "#find the 6 features most important\n",
    "from sklearn.feature_selection import RFE\n",
    "\n",
    "model = Perceptron(max_iter=1000, eta0=0.1)\n",
    "\n",
    "rfe = RFE(estimator=model, n_features_to_select=7) \n",
    "rfe = rfe.fit(X, y)\n",
    "\n",
    "print(\"Selected features:\", rfe.support_)\n",
    "print(\"Feature ranking:\", rfe.ranking_)"
   ]
  },
  {
   "cell_type": "code",
   "execution_count": 58,
   "id": "6effd7f2-c06e-4517-a87d-e0fee48a3525",
   "metadata": {},
   "outputs": [
    {
     "name": "stdout",
     "output_type": "stream",
     "text": [
      "(749, 7)\n"
     ]
    }
   ],
   "source": [
    "X_7 = X.drop(columns=['7'])\n",
    "print(X_7.shape)"
   ]
  },
  {
   "cell_type": "code",
   "execution_count": 59,
   "id": "b5ab772d-3899-4ecc-9ac8-59cbcb4c8445",
   "metadata": {},
   "outputs": [
    {
     "name": "stdout",
     "output_type": "stream",
     "text": [
      "Accuracy: 0.5511111111111111\n"
     ]
    }
   ],
   "source": [
    "X_train, X_test, y_train, y_test = train_test_split(X_7, y, test_size=0.3, random_state=42) \n",
    "clf = Perceptron(max_iter=1000, eta0=0.1)\n",
    "clf.fit(X_train, y_train)\n",
    "y_pred = clf.predict(X_test) \n",
    "\n",
    "accuracy = accuracy_score(y_test, y_pred) \n",
    "print(\"Accuracy:\", accuracy)"
   ]
  },
  {
   "cell_type": "markdown",
   "id": "3c1b78e3-08f6-4f86-9d83-6d6ea36c50d5",
   "metadata": {},
   "source": [
    "#### 2-1-3-2. 6 feature"
   ]
  },
  {
   "cell_type": "code",
   "execution_count": 61,
   "id": "c3d5a4aa",
   "metadata": {},
   "outputs": [
    {
     "name": "stdout",
     "output_type": "stream",
     "text": [
      "Selected features: [ True  True  True False  True  True  True False]\n",
      "Feature ranking: [1 1 1 2 1 1 1 3]\n"
     ]
    }
   ],
   "source": [
    "#find the 6 features most important\n",
    "from sklearn.feature_selection import RFE\n",
    "\n",
    "model = Perceptron(max_iter=1000, eta0=0.1)\n",
    "\n",
    "rfe = RFE(estimator=model, n_features_to_select=6) \n",
    "rfe = rfe.fit(X, y)\n",
    "\n",
    "print(\"Selected features:\", rfe.support_)\n",
    "print(\"Feature ranking:\", rfe.ranking_)"
   ]
  },
  {
   "cell_type": "code",
   "execution_count": 62,
   "id": "2fffc090",
   "metadata": {},
   "outputs": [
    {
     "name": "stdout",
     "output_type": "stream",
     "text": [
      "(749, 6)\n"
     ]
    }
   ],
   "source": [
    "X_6 = X.drop(columns=['3', '7'])\n",
    "print(X_6.shape)"
   ]
  },
  {
   "cell_type": "code",
   "execution_count": 63,
   "id": "697c4777",
   "metadata": {},
   "outputs": [
    {
     "name": "stdout",
     "output_type": "stream",
     "text": [
      "Accuracy: 0.7555555555555555\n"
     ]
    }
   ],
   "source": [
    "X_train, X_test, y_train, y_test = train_test_split(X_6, y, test_size=0.3, random_state=42) \n",
    "clf = Perceptron(max_iter=1000, eta0=0.1)\n",
    "clf.fit(X_train, y_train)\n",
    "y_pred = clf.predict(X_test) \n",
    "\n",
    "accuracy = accuracy_score(y_test, y_pred) \n",
    "print(\"Accuracy:\", accuracy)"
   ]
  },
  {
   "cell_type": "markdown",
   "id": "d77fd955-1231-4f50-bed4-6471a3ede693",
   "metadata": {
    "jp-MarkdownHeadingCollapsed": true
   },
   "source": [
    "#### 2-1-3-3. 5 feature"
   ]
  },
  {
   "cell_type": "code",
   "execution_count": 65,
   "id": "f552b7b0",
   "metadata": {},
   "outputs": [
    {
     "name": "stdout",
     "output_type": "stream",
     "text": [
      "Selected features: [ True  True False False  True  True  True False]\n",
      "Feature ranking: [1 1 2 3 1 1 1 4]\n"
     ]
    }
   ],
   "source": [
    "#find the 6 features most important\n",
    "from sklearn.feature_selection import RFE\n",
    "\n",
    "model = Perceptron(max_iter=1000, eta0=0.1)\n",
    "\n",
    "rfe = RFE(estimator=model, n_features_to_select=5) \n",
    "rfe = rfe.fit(X, y)\n",
    "\n",
    "print(\"Selected features:\", rfe.support_)\n",
    "print(\"Feature ranking:\", rfe.ranking_)"
   ]
  },
  {
   "cell_type": "code",
   "execution_count": 66,
   "id": "1dce08f1",
   "metadata": {},
   "outputs": [
    {
     "name": "stdout",
     "output_type": "stream",
     "text": [
      "(749, 5)\n"
     ]
    }
   ],
   "source": [
    "X_5 = X.drop(columns=['2','3', '7'])\n",
    "print(X_5.shape)"
   ]
  },
  {
   "cell_type": "code",
   "execution_count": 67,
   "id": "825c1b35",
   "metadata": {},
   "outputs": [
    {
     "name": "stdout",
     "output_type": "stream",
     "text": [
      "Accuracy: 0.72\n"
     ]
    }
   ],
   "source": [
    "X_train, X_test, y_train, y_test = train_test_split(X_5, y, test_size=0.3, random_state=42) \n",
    "clf = Perceptron(max_iter=1000, eta0=0.1)\n",
    "clf.fit(X_train, y_train)\n",
    "y_pred = clf.predict(X_test) \n",
    "\n",
    "accuracy = accuracy_score(y_test, y_pred) \n",
    "print(\"Accuracy:\", accuracy)"
   ]
  },
  {
   "cell_type": "markdown",
   "id": "9d5b63a1-fea8-48e0-9601-2c36f6e810e1",
   "metadata": {
    "jp-MarkdownHeadingCollapsed": true
   },
   "source": [
    "#### 2-1-3-4. 4 feature"
   ]
  },
  {
   "cell_type": "code",
   "execution_count": 69,
   "id": "c7bd68f1",
   "metadata": {},
   "outputs": [
    {
     "name": "stdout",
     "output_type": "stream",
     "text": [
      "Selected features: [False  True False False  True  True  True False]\n",
      "Feature ranking: [2 1 3 4 1 1 1 5]\n"
     ]
    }
   ],
   "source": [
    "#find the 4 features most important\n",
    "from sklearn.feature_selection import RFE\n",
    "\n",
    "model = Perceptron(max_iter=1000, eta0=0.1)\n",
    "\n",
    "rfe = RFE(estimator=model, n_features_to_select=4) \n",
    "rfe = rfe.fit(X, y)\n",
    "\n",
    "print(\"Selected features:\", rfe.support_)\n",
    "print(\"Feature ranking:\", rfe.ranking_)"
   ]
  },
  {
   "cell_type": "code",
   "execution_count": 70,
   "id": "59be834d",
   "metadata": {},
   "outputs": [
    {
     "name": "stdout",
     "output_type": "stream",
     "text": [
      "(749, 4)\n"
     ]
    }
   ],
   "source": [
    "X_4 = X.drop(columns=['0','2','3', '7'])\n",
    "print(X_4.shape)"
   ]
  },
  {
   "cell_type": "code",
   "execution_count": 71,
   "id": "caeebec8",
   "metadata": {},
   "outputs": [
    {
     "name": "stdout",
     "output_type": "stream",
     "text": [
      "Accuracy: 0.7066666666666667\n"
     ]
    }
   ],
   "source": [
    "X_train, X_test, y_train, y_test = train_test_split(X_4, y, test_size=0.3, random_state=42) \n",
    "clf = Perceptron(max_iter=1000, eta0=0.1)\n",
    "clf.fit(X_train, y_train)\n",
    "y_pred = clf.predict(X_test) \n",
    "\n",
    "accuracy = accuracy_score(y_test, y_pred) \n",
    "print(\"Accuracy:\", accuracy)"
   ]
  },
  {
   "cell_type": "markdown",
   "id": "78169873-d1c6-49c2-9ac8-c15f1b4facc7",
   "metadata": {
    "jp-MarkdownHeadingCollapsed": true
   },
   "source": [
    "#### 2-1-3-5. 2 feature"
   ]
  },
  {
   "cell_type": "code",
   "execution_count": 73,
   "id": "4cc57e16",
   "metadata": {},
   "outputs": [
    {
     "name": "stdout",
     "output_type": "stream",
     "text": [
      "Selected features: [False  True False False False  True False False]\n",
      "Feature ranking: [4 1 5 6 2 1 3 7]\n"
     ]
    }
   ],
   "source": [
    "#find the 4 features most important\n",
    "from sklearn.feature_selection import RFE\n",
    "\n",
    "model = Perceptron(max_iter=1000, eta0=0.1)\n",
    "\n",
    "rfe = RFE(estimator=model, n_features_to_select=2) \n",
    "rfe = rfe.fit(X, y)\n",
    "\n",
    "print(\"Selected features:\", rfe.support_)\n",
    "print(\"Feature ranking:\", rfe.ranking_)"
   ]
  },
  {
   "cell_type": "code",
   "execution_count": 74,
   "id": "a29a4909",
   "metadata": {},
   "outputs": [
    {
     "name": "stdout",
     "output_type": "stream",
     "text": [
      "(749, 2)\n"
     ]
    }
   ],
   "source": [
    "X_2 = X.drop(columns=['0','2','3','4','6','7'])\n",
    "print(X_2.shape)"
   ]
  },
  {
   "cell_type": "code",
   "execution_count": 75,
   "id": "e613c8f1",
   "metadata": {},
   "outputs": [
    {
     "name": "stdout",
     "output_type": "stream",
     "text": [
      "Accuracy: 0.68\n"
     ]
    }
   ],
   "source": [
    "X_train, X_test, y_train, y_test = train_test_split(X_2, y, test_size=0.3, random_state=42) \n",
    "clf = Perceptron(max_iter=1000, eta0=0.1)\n",
    "clf.fit(X_train, y_train)\n",
    "y_pred = clf.predict(X_test) \n",
    "\n",
    "accuracy = accuracy_score(y_test, y_pred) \n",
    "print(\"Accuracy:\", accuracy)"
   ]
  },
  {
   "cell_type": "markdown",
   "id": "1bc560c1-3e18-44c3-95af-2803bc7fc32c",
   "metadata": {},
   "source": [
    "## 2-2. For model"
   ]
  },
  {
   "cell_type": "markdown",
   "id": "798d4eb2-ac9d-4b54-91d4-2a17a9fca0b7",
   "metadata": {},
   "source": [
    "Model type and parameter"
   ]
  },
  {
   "cell_type": "markdown",
   "id": "bade70b6-ef7a-4013-b6a6-d11f2c08eabc",
   "metadata": {},
   "source": [
    "### 2-2-1. hidden_layer_sizes. best value: 5"
   ]
  },
  {
   "cell_type": "code",
   "execution_count": 79,
   "id": "782f1dbe-156e-4b04-8259-26b43ba4077c",
   "metadata": {},
   "outputs": [
    {
     "name": "stdout",
     "output_type": "stream",
     "text": [
      "Accuracy: 0.7466666666666667\n"
     ]
    }
   ],
   "source": [
    "from sklearn.neural_network import MLPClassifier\n",
    "\n",
    "mlp = MLPClassifier(hidden_layer_sizes=(50,), max_iter=1000, random_state=42)\n",
    "\n",
    "X_train, X_test, y_train, y_test = train_test_split(X_6, y, test_size=0.3, random_state=42) \n",
    "mlp.fit(X_train, y_train)\n",
    "\n",
    "y_pred = mlp.predict(X_test)\n",
    "\n",
    "accuracy = accuracy_score(y_test, y_pred)\n",
    "print(f'Accuracy: {accuracy}')"
   ]
  },
  {
   "cell_type": "code",
   "execution_count": 80,
   "id": "fa91da26",
   "metadata": {},
   "outputs": [
    {
     "name": "stdout",
     "output_type": "stream",
     "text": [
      "Accuracy: 0.7511111111111111\n"
     ]
    }
   ],
   "source": [
    "mlp = MLPClassifier(hidden_layer_sizes=(10,), max_iter=1000, random_state=42)\n",
    "\n",
    "X_train, X_test, y_train, y_test = train_test_split(X_6, y, test_size=0.3, random_state=42) \n",
    "mlp.fit(X_train, y_train)\n",
    "\n",
    "y_pred = mlp.predict(X_test)\n",
    "\n",
    "accuracy = accuracy_score(y_test, y_pred)\n",
    "print(f'Accuracy: {accuracy}')"
   ]
  },
  {
   "cell_type": "code",
   "execution_count": 81,
   "id": "a61b1dfd",
   "metadata": {},
   "outputs": [
    {
     "name": "stdout",
     "output_type": "stream",
     "text": [
      "Accuracy: 0.7511111111111111\n"
     ]
    }
   ],
   "source": [
    "mlp = MLPClassifier(hidden_layer_sizes=(4,), max_iter=1000, random_state=42)\n",
    "\n",
    "X_train, X_test, y_train, y_test = train_test_split(X_6, y, test_size=0.3, random_state=42) \n",
    "mlp.fit(X_train, y_train)\n",
    "\n",
    "y_pred = mlp.predict(X_test)\n",
    "\n",
    "accuracy = accuracy_score(y_test, y_pred)\n",
    "print(f'Accuracy: {accuracy}')"
   ]
  },
  {
   "cell_type": "code",
   "execution_count": 82,
   "id": "f5de4e86",
   "metadata": {},
   "outputs": [
    {
     "name": "stdout",
     "output_type": "stream",
     "text": [
      "Accuracy: 0.7644444444444445\n"
     ]
    }
   ],
   "source": [
    "mlp = MLPClassifier(hidden_layer_sizes=(5,), max_iter=1000, random_state=42)\n",
    "\n",
    "X_train, X_test, y_train, y_test = train_test_split(X_6, y, test_size=0.3, random_state=42) \n",
    "mlp.fit(X_train, y_train)\n",
    "\n",
    "y_pred = mlp.predict(X_test)\n",
    "\n",
    "accuracy = accuracy_score(y_test, y_pred)\n",
    "print(f'Accuracy: {accuracy}')"
   ]
  },
  {
   "cell_type": "code",
   "execution_count": 83,
   "id": "7b862532",
   "metadata": {},
   "outputs": [
    {
     "name": "stdout",
     "output_type": "stream",
     "text": [
      "Accuracy: 0.7555555555555555\n"
     ]
    }
   ],
   "source": [
    "mlp = MLPClassifier(hidden_layer_sizes=(6,), max_iter=1000, random_state=42)\n",
    "\n",
    "X_train, X_test, y_train, y_test = train_test_split(X_6, y, test_size=0.3, random_state=42) \n",
    "mlp.fit(X_train, y_train)\n",
    "\n",
    "y_pred = mlp.predict(X_test)\n",
    "\n",
    "accuracy = accuracy_score(y_test, y_pred)\n",
    "print(f'Accuracy: {accuracy}')"
   ]
  }
 ],
 "metadata": {
  "kernelspec": {
   "display_name": "Python 3 (ipykernel)",
   "language": "python",
   "name": "python3"
  },
  "language_info": {
   "codemirror_mode": {
    "name": "ipython",
    "version": 3
   },
   "file_extension": ".py",
   "mimetype": "text/x-python",
   "name": "python",
   "nbconvert_exporter": "python",
   "pygments_lexer": "ipython3",
   "version": "3.12.4"
  }
 },
 "nbformat": 4,
 "nbformat_minor": 5
}
